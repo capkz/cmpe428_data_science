{
  "nbformat": 4,
  "nbformat_minor": 0,
  "metadata": {
    "colab": {
      "name": "Data Task 4.ipynb",
      "provenance": []
    },
    "kernelspec": {
      "name": "python3",
      "display_name": "Python 3"
    }
  },
  "cells": [
    {
      "cell_type": "markdown",
      "metadata": {
        "id": "IjvG1un8Z_B8"
      },
      "source": [
        "# CMPE428 Assignment 4\r\n",
        "Building Nearest Neighbour Classifiers\r\n",
        "by Çağıl Peköz\r\n"
      ]
    },
    {
      "cell_type": "markdown",
      "metadata": {
        "id": "w3Ja8TgT_o-e"
      },
      "source": [
        "Imports"
      ]
    },
    {
      "cell_type": "code",
      "metadata": {
        "id": "VY30-nICncjL"
      },
      "source": [
        "import pandas as pd\r\n",
        "import numpy as np\r\n",
        "import seaborn as sns\r\n",
        "import matplotlib.pyplot as plt\r\n",
        "import statsmodels.api as sm\r\n",
        "\r\n",
        "from math import sqrt\r\n",
        "from sklearn.neighbors import KNeighborsClassifier\r\n",
        "from sklearn.model_selection import train_test_split\r\n",
        "from sklearn.linear_model import LogisticRegression\r\n",
        "from sklearn.metrics import accuracy_score, f1_score, recall_score, precision_score"
      ],
      "execution_count": null,
      "outputs": []
    },
    {
      "cell_type": "markdown",
      "metadata": {
        "id": "Iicb6y2WBact"
      },
      "source": [
        "Import CSV"
      ]
    },
    {
      "cell_type": "code",
      "metadata": {
        "id": "ox3rbt9xoTeP"
      },
      "source": [
        "df = pd.read_csv('stdData 1.csv')"
      ],
      "execution_count": null,
      "outputs": []
    },
    {
      "cell_type": "code",
      "metadata": {
        "colab": {
          "base_uri": "https://localhost:8080/",
          "height": 204
        },
        "id": "gfmj8Kb2ooLy",
        "outputId": "d21fe245-d675-4270-a133-8b7de96c377d"
      },
      "source": [
        "df.head()"
      ],
      "execution_count": null,
      "outputs": [
        {
          "output_type": "execute_result",
          "data": {
            "text/html": [
              "<div>\n",
              "<style scoped>\n",
              "    .dataframe tbody tr th:only-of-type {\n",
              "        vertical-align: middle;\n",
              "    }\n",
              "\n",
              "    .dataframe tbody tr th {\n",
              "        vertical-align: top;\n",
              "    }\n",
              "\n",
              "    .dataframe thead th {\n",
              "        text-align: right;\n",
              "    }\n",
              "</style>\n",
              "<table border=\"1\" class=\"dataframe\">\n",
              "  <thead>\n",
              "    <tr style=\"text-align: right;\">\n",
              "      <th></th>\n",
              "      <th>Label</th>\n",
              "      <th>V1</th>\n",
              "      <th>V2</th>\n",
              "      <th>V3</th>\n",
              "      <th>V4</th>\n",
              "      <th>V5</th>\n",
              "      <th>V6</th>\n",
              "      <th>V7</th>\n",
              "      <th>V8</th>\n",
              "    </tr>\n",
              "  </thead>\n",
              "  <tbody>\n",
              "    <tr>\n",
              "      <th>0</th>\n",
              "      <td>positive</td>\n",
              "      <td>1.221400</td>\n",
              "      <td>128.101200</td>\n",
              "      <td>80.035036</td>\n",
              "      <td>35.431417</td>\n",
              "      <td>180.956968</td>\n",
              "      <td>42.944951</td>\n",
              "      <td>1.320305</td>\n",
              "      <td>-0.779046</td>\n",
              "    </tr>\n",
              "    <tr>\n",
              "      <th>1</th>\n",
              "      <td>negative</td>\n",
              "      <td>2.609743</td>\n",
              "      <td>85.891549</td>\n",
              "      <td>58.543681</td>\n",
              "      <td>14.454311</td>\n",
              "      <td>52.545356</td>\n",
              "      <td>33.426070</td>\n",
              "      <td>-0.786571</td>\n",
              "      <td>-1.656509</td>\n",
              "    </tr>\n",
              "    <tr>\n",
              "      <th>2</th>\n",
              "      <td>negative</td>\n",
              "      <td>2.682163</td>\n",
              "      <td>99.782456</td>\n",
              "      <td>68.000884</td>\n",
              "      <td>26.339627</td>\n",
              "      <td>71.578043</td>\n",
              "      <td>37.542894</td>\n",
              "      <td>0.534953</td>\n",
              "      <td>-3.394990</td>\n",
              "    </tr>\n",
              "    <tr>\n",
              "      <th>3</th>\n",
              "      <td>negative</td>\n",
              "      <td>3.196969</td>\n",
              "      <td>115.189168</td>\n",
              "      <td>65.307845</td>\n",
              "      <td>-0.539337</td>\n",
              "      <td>0.269863</td>\n",
              "      <td>20.857287</td>\n",
              "      <td>0.562433</td>\n",
              "      <td>-0.534598</td>\n",
              "    </tr>\n",
              "    <tr>\n",
              "      <th>4</th>\n",
              "      <td>positive</td>\n",
              "      <td>4.790932</td>\n",
              "      <td>144.487763</td>\n",
              "      <td>80.800220</td>\n",
              "      <td>18.937774</td>\n",
              "      <td>-0.033570</td>\n",
              "      <td>31.346055</td>\n",
              "      <td>0.789162</td>\n",
              "      <td>-4.069492</td>\n",
              "    </tr>\n",
              "  </tbody>\n",
              "</table>\n",
              "</div>"
            ],
            "text/plain": [
              "      Label        V1          V2  ...         V6        V7        V8\n",
              "0  positive  1.221400  128.101200  ...  42.944951  1.320305 -0.779046\n",
              "1  negative  2.609743   85.891549  ...  33.426070 -0.786571 -1.656509\n",
              "2  negative  2.682163   99.782456  ...  37.542894  0.534953 -3.394990\n",
              "3  negative  3.196969  115.189168  ...  20.857287  0.562433 -0.534598\n",
              "4  positive  4.790932  144.487763  ...  31.346055  0.789162 -4.069492\n",
              "\n",
              "[5 rows x 9 columns]"
            ]
          },
          "metadata": {
            "tags": []
          },
          "execution_count": 90
        }
      ]
    },
    {
      "cell_type": "markdown",
      "metadata": {
        "id": "9X4MhSyYaWnm"
      },
      "source": [
        "## Task"
      ]
    },
    {
      "cell_type": "markdown",
      "metadata": {
        "id": "o341nqlIBe65"
      },
      "source": [
        "### Split Dataset with Equal Positives and Negatives"
      ]
    },
    {
      "cell_type": "markdown",
      "metadata": {
        "id": "YhtqDmWtaefz"
      },
      "source": [
        "We can see the amount of negatives and positives with this command"
      ]
    },
    {
      "cell_type": "code",
      "metadata": {
        "colab": {
          "base_uri": "https://localhost:8080/"
        },
        "id": "i1mBrvHKoqhP",
        "outputId": "144de46e-5553-4518-fc53-3169e531f511"
      },
      "source": [
        "df.Label.value_counts()"
      ],
      "execution_count": null,
      "outputs": [
        {
          "output_type": "execute_result",
          "data": {
            "text/plain": [
              "negative    195\n",
              "positive    105\n",
              "Name: Label, dtype: int64"
            ]
          },
          "metadata": {
            "tags": []
          },
          "execution_count": 91
        }
      ]
    },
    {
      "cell_type": "markdown",
      "metadata": {
        "id": "U_TdgPS7Bh7l"
      },
      "source": [
        "#### Replacing Categorical with Binary"
      ]
    },
    {
      "cell_type": "code",
      "metadata": {
        "id": "8Z8sRhEnp8U5"
      },
      "source": [
        "df[\"Label\"] = df[\"Label\"].replace({\"positive\":1,\"negative\":0})"
      ],
      "execution_count": null,
      "outputs": []
    },
    {
      "cell_type": "code",
      "metadata": {
        "colab": {
          "base_uri": "https://localhost:8080/",
          "height": 204
        },
        "id": "wAmbq_j15Gk3",
        "outputId": "8bd48e08-5e5c-4023-e192-45140157d475"
      },
      "source": [
        "df.head()"
      ],
      "execution_count": null,
      "outputs": [
        {
          "output_type": "execute_result",
          "data": {
            "text/html": [
              "<div>\n",
              "<style scoped>\n",
              "    .dataframe tbody tr th:only-of-type {\n",
              "        vertical-align: middle;\n",
              "    }\n",
              "\n",
              "    .dataframe tbody tr th {\n",
              "        vertical-align: top;\n",
              "    }\n",
              "\n",
              "    .dataframe thead th {\n",
              "        text-align: right;\n",
              "    }\n",
              "</style>\n",
              "<table border=\"1\" class=\"dataframe\">\n",
              "  <thead>\n",
              "    <tr style=\"text-align: right;\">\n",
              "      <th></th>\n",
              "      <th>Label</th>\n",
              "      <th>V1</th>\n",
              "      <th>V2</th>\n",
              "      <th>V3</th>\n",
              "      <th>V4</th>\n",
              "      <th>V5</th>\n",
              "      <th>V6</th>\n",
              "      <th>V7</th>\n",
              "      <th>V8</th>\n",
              "    </tr>\n",
              "  </thead>\n",
              "  <tbody>\n",
              "    <tr>\n",
              "      <th>0</th>\n",
              "      <td>1</td>\n",
              "      <td>1.221400</td>\n",
              "      <td>128.101200</td>\n",
              "      <td>80.035036</td>\n",
              "      <td>35.431417</td>\n",
              "      <td>180.956968</td>\n",
              "      <td>42.944951</td>\n",
              "      <td>1.320305</td>\n",
              "      <td>-0.779046</td>\n",
              "    </tr>\n",
              "    <tr>\n",
              "      <th>1</th>\n",
              "      <td>0</td>\n",
              "      <td>2.609743</td>\n",
              "      <td>85.891549</td>\n",
              "      <td>58.543681</td>\n",
              "      <td>14.454311</td>\n",
              "      <td>52.545356</td>\n",
              "      <td>33.426070</td>\n",
              "      <td>-0.786571</td>\n",
              "      <td>-1.656509</td>\n",
              "    </tr>\n",
              "    <tr>\n",
              "      <th>2</th>\n",
              "      <td>0</td>\n",
              "      <td>2.682163</td>\n",
              "      <td>99.782456</td>\n",
              "      <td>68.000884</td>\n",
              "      <td>26.339627</td>\n",
              "      <td>71.578043</td>\n",
              "      <td>37.542894</td>\n",
              "      <td>0.534953</td>\n",
              "      <td>-3.394990</td>\n",
              "    </tr>\n",
              "    <tr>\n",
              "      <th>3</th>\n",
              "      <td>0</td>\n",
              "      <td>3.196969</td>\n",
              "      <td>115.189168</td>\n",
              "      <td>65.307845</td>\n",
              "      <td>-0.539337</td>\n",
              "      <td>0.269863</td>\n",
              "      <td>20.857287</td>\n",
              "      <td>0.562433</td>\n",
              "      <td>-0.534598</td>\n",
              "    </tr>\n",
              "    <tr>\n",
              "      <th>4</th>\n",
              "      <td>1</td>\n",
              "      <td>4.790932</td>\n",
              "      <td>144.487763</td>\n",
              "      <td>80.800220</td>\n",
              "      <td>18.937774</td>\n",
              "      <td>-0.033570</td>\n",
              "      <td>31.346055</td>\n",
              "      <td>0.789162</td>\n",
              "      <td>-4.069492</td>\n",
              "    </tr>\n",
              "  </tbody>\n",
              "</table>\n",
              "</div>"
            ],
            "text/plain": [
              "   Label        V1          V2  ...         V6        V7        V8\n",
              "0      1  1.221400  128.101200  ...  42.944951  1.320305 -0.779046\n",
              "1      0  2.609743   85.891549  ...  33.426070 -0.786571 -1.656509\n",
              "2      0  2.682163   99.782456  ...  37.542894  0.534953 -3.394990\n",
              "3      0  3.196969  115.189168  ...  20.857287  0.562433 -0.534598\n",
              "4      1  4.790932  144.487763  ...  31.346055  0.789162 -4.069492\n",
              "\n",
              "[5 rows x 9 columns]"
            ]
          },
          "metadata": {
            "tags": []
          },
          "execution_count": 93
        }
      ]
    },
    {
      "cell_type": "markdown",
      "metadata": {
        "id": "ANjfl4oCBnlu"
      },
      "source": [
        "#### Splitting Dataset Into 2, with Equal Amounts of Negative and Positive"
      ]
    },
    {
      "cell_type": "markdown",
      "metadata": {
        "id": "Mc6FpSCKcxP2"
      },
      "source": [
        "We first get our X and Y values."
      ]
    },
    {
      "cell_type": "code",
      "metadata": {
        "id": "uf6SvMJvc1A7"
      },
      "source": [
        "X = df.drop([\"Label\"], axis = 1)\r\n",
        "y = df[\"Label\"]"
      ],
      "execution_count": null,
      "outputs": []
    },
    {
      "cell_type": "markdown",
      "metadata": {
        "id": "zBOB-_2javBJ"
      },
      "source": [
        "We use stratify on y and split our dataframe into 2, so that we get equal distribution of negatives and positives."
      ]
    },
    {
      "cell_type": "code",
      "metadata": {
        "id": "xgvns9Lw5IHr"
      },
      "source": [
        "X_train, X_test = train_test_split(df, test_size = 0.5, stratify = y)"
      ],
      "execution_count": null,
      "outputs": []
    },
    {
      "cell_type": "code",
      "metadata": {
        "colab": {
          "base_uri": "https://localhost:8080/"
        },
        "id": "S6R9UqxX7GIh",
        "outputId": "60a7532a-884f-47f5-fa69-049c241ed04f"
      },
      "source": [
        "y_train.value_counts()"
      ],
      "execution_count": null,
      "outputs": [
        {
          "output_type": "execute_result",
          "data": {
            "text/plain": [
              "0    98\n",
              "1    52\n",
              "Name: Label, dtype: int64"
            ]
          },
          "metadata": {
            "tags": []
          },
          "execution_count": 96
        }
      ]
    },
    {
      "cell_type": "code",
      "metadata": {
        "colab": {
          "base_uri": "https://localhost:8080/"
        },
        "id": "GEFNO-bV7MD9",
        "outputId": "d3977189-650d-4360-b329-4cd893bfadb4"
      },
      "source": [
        "y_test.value_counts()"
      ],
      "execution_count": null,
      "outputs": [
        {
          "output_type": "execute_result",
          "data": {
            "text/plain": [
              "0    97\n",
              "1    53\n",
              "Name: Label, dtype: int64"
            ]
          },
          "metadata": {
            "tags": []
          },
          "execution_count": 97
        }
      ]
    },
    {
      "cell_type": "markdown",
      "metadata": {
        "id": "jVjCSIsCbW9w"
      },
      "source": [
        "We can see that numbers of 0 and 1 is equal across test and train."
      ]
    },
    {
      "cell_type": "markdown",
      "metadata": {
        "id": "4TEmTNyNmCiB"
      },
      "source": [
        "### kNN Classifier and Scores"
      ]
    },
    {
      "cell_type": "markdown",
      "metadata": {
        "id": "7aGctdMdqhvT"
      },
      "source": [
        "Here I have built the model and for test purposes I tried k=1."
      ]
    },
    {
      "cell_type": "code",
      "metadata": {
        "colab": {
          "base_uri": "https://localhost:8080/",
          "height": 80
        },
        "id": "X3ebYAFXmGcJ",
        "outputId": "c345de38-732a-44bb-e39b-215b04a66c33"
      },
      "source": [
        "neigh = KNeighborsClassifier(n_neighbors=1)\r\n",
        "neigh.fit(X_train,y_train)\r\n",
        "y_pred = neigh.predict(X_test)\r\n",
        "\r\n",
        "scores = {}\r\n",
        "scores['K Value'] = \"1\"\r\n",
        "scores['Accuracy'] = accuracy_score(y_test, y_pred)\r\n",
        "scores['F1'] = f1_score(y_test, y_pred)\r\n",
        "scores['Recall'] = recall_score(y_test, y_pred)\r\n",
        "scores['Precision'] = precision_score(y_test, y_pred)\r\n",
        "\r\n",
        "scores_df = pd.DataFrame.from_dict(scores, orient='index')\r\n",
        "scores_df = scores_df.transpose()\r\n",
        "scores_df"
      ],
      "execution_count": null,
      "outputs": [
        {
          "output_type": "execute_result",
          "data": {
            "text/html": [
              "<div>\n",
              "<style scoped>\n",
              "    .dataframe tbody tr th:only-of-type {\n",
              "        vertical-align: middle;\n",
              "    }\n",
              "\n",
              "    .dataframe tbody tr th {\n",
              "        vertical-align: top;\n",
              "    }\n",
              "\n",
              "    .dataframe thead th {\n",
              "        text-align: right;\n",
              "    }\n",
              "</style>\n",
              "<table border=\"1\" class=\"dataframe\">\n",
              "  <thead>\n",
              "    <tr style=\"text-align: right;\">\n",
              "      <th></th>\n",
              "      <th>K Value</th>\n",
              "      <th>Accuracy</th>\n",
              "      <th>F1</th>\n",
              "      <th>Recall</th>\n",
              "      <th>Precision</th>\n",
              "    </tr>\n",
              "  </thead>\n",
              "  <tbody>\n",
              "    <tr>\n",
              "      <th>0</th>\n",
              "      <td>1</td>\n",
              "      <td>0.586667</td>\n",
              "      <td>0.354167</td>\n",
              "      <td>0.320755</td>\n",
              "      <td>0.395349</td>\n",
              "    </tr>\n",
              "  </tbody>\n",
              "</table>\n",
              "</div>"
            ],
            "text/plain": [
              "  K Value  Accuracy        F1    Recall Precision\n",
              "0       1  0.586667  0.354167  0.320755  0.395349"
            ]
          },
          "metadata": {
            "tags": []
          },
          "execution_count": 98
        }
      ]
    },
    {
      "cell_type": "markdown",
      "metadata": {
        "id": "l1TotvSP0rge"
      },
      "source": [
        "### Testing Different K Values"
      ]
    },
    {
      "cell_type": "markdown",
      "metadata": {
        "id": "reLKCADswpZ8"
      },
      "source": [
        "Here I will try k=2."
      ]
    },
    {
      "cell_type": "code",
      "metadata": {
        "colab": {
          "base_uri": "https://localhost:8080/",
          "height": 111
        },
        "id": "8Sk8blYBwzGR",
        "outputId": "6fed66e6-a763-4c26-9307-987c1108aaa2"
      },
      "source": [
        "neigh = KNeighborsClassifier(n_neighbors=2)\r\n",
        "neigh.fit(X_train,y_train)\r\n",
        "y_pred = neigh.predict(X_test)\r\n",
        "\r\n",
        "scores = {}\r\n",
        "scores['K Value'] = \"2\"\r\n",
        "scores['Accuracy'] = accuracy_score(y_test, y_pred)\r\n",
        "scores['F1'] = f1_score(y_test, y_pred)\r\n",
        "scores['Recall'] = recall_score(y_test, y_pred)\r\n",
        "scores['Precision'] = precision_score(y_test, y_pred)\r\n",
        "\r\n",
        "scores_df = scores_df.append(scores, ignore_index=True)\r\n",
        "scores_df"
      ],
      "execution_count": null,
      "outputs": [
        {
          "output_type": "execute_result",
          "data": {
            "text/html": [
              "<div>\n",
              "<style scoped>\n",
              "    .dataframe tbody tr th:only-of-type {\n",
              "        vertical-align: middle;\n",
              "    }\n",
              "\n",
              "    .dataframe tbody tr th {\n",
              "        vertical-align: top;\n",
              "    }\n",
              "\n",
              "    .dataframe thead th {\n",
              "        text-align: right;\n",
              "    }\n",
              "</style>\n",
              "<table border=\"1\" class=\"dataframe\">\n",
              "  <thead>\n",
              "    <tr style=\"text-align: right;\">\n",
              "      <th></th>\n",
              "      <th>K Value</th>\n",
              "      <th>Accuracy</th>\n",
              "      <th>F1</th>\n",
              "      <th>Recall</th>\n",
              "      <th>Precision</th>\n",
              "    </tr>\n",
              "  </thead>\n",
              "  <tbody>\n",
              "    <tr>\n",
              "      <th>0</th>\n",
              "      <td>1</td>\n",
              "      <td>0.586667</td>\n",
              "      <td>0.354167</td>\n",
              "      <td>0.320755</td>\n",
              "      <td>0.395349</td>\n",
              "    </tr>\n",
              "    <tr>\n",
              "      <th>1</th>\n",
              "      <td>2</td>\n",
              "      <td>0.586667</td>\n",
              "      <td>0.0882353</td>\n",
              "      <td>0.0566038</td>\n",
              "      <td>0.2</td>\n",
              "    </tr>\n",
              "  </tbody>\n",
              "</table>\n",
              "</div>"
            ],
            "text/plain": [
              "  K Value  Accuracy         F1     Recall Precision\n",
              "0       1  0.586667   0.354167   0.320755  0.395349\n",
              "1       2  0.586667  0.0882353  0.0566038       0.2"
            ]
          },
          "metadata": {
            "tags": []
          },
          "execution_count": 99
        }
      ]
    },
    {
      "cell_type": "markdown",
      "metadata": {
        "id": "TME9PRVPx8_8"
      },
      "source": [
        "Here I will try k=3."
      ]
    },
    {
      "cell_type": "code",
      "metadata": {
        "colab": {
          "base_uri": "https://localhost:8080/",
          "height": 142
        },
        "id": "x_lR2ydDyADb",
        "outputId": "c290ac7b-f552-4930-92da-81786bc95bb5"
      },
      "source": [
        "neigh = KNeighborsClassifier(n_neighbors=3)\r\n",
        "neigh.fit(X_train,y_train)\r\n",
        "y_pred = neigh.predict(X_test)\r\n",
        "\r\n",
        "scores = {}\r\n",
        "scores['K Value'] = \"3\"\r\n",
        "scores['Accuracy'] = accuracy_score(y_test, y_pred)\r\n",
        "scores['F1'] = f1_score(y_test, y_pred)\r\n",
        "scores['Recall'] = recall_score(y_test, y_pred)\r\n",
        "scores['Precision'] = precision_score(y_test, y_pred)\r\n",
        "\r\n",
        "scores_df = scores_df.append(scores, ignore_index=True)\r\n",
        "scores_df"
      ],
      "execution_count": null,
      "outputs": [
        {
          "output_type": "execute_result",
          "data": {
            "text/html": [
              "<div>\n",
              "<style scoped>\n",
              "    .dataframe tbody tr th:only-of-type {\n",
              "        vertical-align: middle;\n",
              "    }\n",
              "\n",
              "    .dataframe tbody tr th {\n",
              "        vertical-align: top;\n",
              "    }\n",
              "\n",
              "    .dataframe thead th {\n",
              "        text-align: right;\n",
              "    }\n",
              "</style>\n",
              "<table border=\"1\" class=\"dataframe\">\n",
              "  <thead>\n",
              "    <tr style=\"text-align: right;\">\n",
              "      <th></th>\n",
              "      <th>K Value</th>\n",
              "      <th>Accuracy</th>\n",
              "      <th>F1</th>\n",
              "      <th>Recall</th>\n",
              "      <th>Precision</th>\n",
              "    </tr>\n",
              "  </thead>\n",
              "  <tbody>\n",
              "    <tr>\n",
              "      <th>0</th>\n",
              "      <td>1</td>\n",
              "      <td>0.586667</td>\n",
              "      <td>0.354167</td>\n",
              "      <td>0.320755</td>\n",
              "      <td>0.395349</td>\n",
              "    </tr>\n",
              "    <tr>\n",
              "      <th>1</th>\n",
              "      <td>2</td>\n",
              "      <td>0.586667</td>\n",
              "      <td>0.0882353</td>\n",
              "      <td>0.0566038</td>\n",
              "      <td>0.2</td>\n",
              "    </tr>\n",
              "    <tr>\n",
              "      <th>2</th>\n",
              "      <td>3</td>\n",
              "      <td>0.566667</td>\n",
              "      <td>0.235294</td>\n",
              "      <td>0.188679</td>\n",
              "      <td>0.3125</td>\n",
              "    </tr>\n",
              "  </tbody>\n",
              "</table>\n",
              "</div>"
            ],
            "text/plain": [
              "  K Value  Accuracy         F1     Recall Precision\n",
              "0       1  0.586667   0.354167   0.320755  0.395349\n",
              "1       2  0.586667  0.0882353  0.0566038       0.2\n",
              "2       3  0.566667   0.235294   0.188679    0.3125"
            ]
          },
          "metadata": {
            "tags": []
          },
          "execution_count": 100
        }
      ]
    },
    {
      "cell_type": "markdown",
      "metadata": {
        "id": "-4NKsGvj02Ox"
      },
      "source": [
        "### Trying Out a Few Formulas I Found Online"
      ]
    },
    {
      "cell_type": "markdown",
      "metadata": {
        "id": "IDQv897xyGBl"
      },
      "source": [
        "According to my research, as a general rule of thumb, k-value is determined by k = sqrt(N)/2 or k = sqrt(N) formula. I will use both of these formulas and check the scores."
      ]
    },
    {
      "cell_type": "code",
      "metadata": {
        "colab": {
          "base_uri": "https://localhost:8080/"
        },
        "id": "xiQCiWvcyZ_N",
        "outputId": "17944a65-6100-4486-c17d-3f62e867c628"
      },
      "source": [
        "k1 = sqrt(len(X_train))/2\r\n",
        "round(k1)"
      ],
      "execution_count": null,
      "outputs": [
        {
          "output_type": "execute_result",
          "data": {
            "text/plain": [
              "6"
            ]
          },
          "metadata": {
            "tags": []
          },
          "execution_count": 101
        }
      ]
    },
    {
      "cell_type": "code",
      "metadata": {
        "colab": {
          "base_uri": "https://localhost:8080/"
        },
        "id": "T71Ey7Oxyoyb",
        "outputId": "fd6532a7-970d-4df5-faf7-9691b93fb3ee"
      },
      "source": [
        "k2 = sqrt(len(X_train))\r\n",
        "round(k2)"
      ],
      "execution_count": null,
      "outputs": [
        {
          "output_type": "execute_result",
          "data": {
            "text/plain": [
              "12"
            ]
          },
          "metadata": {
            "tags": []
          },
          "execution_count": 102
        }
      ]
    },
    {
      "cell_type": "markdown",
      "metadata": {
        "id": "RdH-xsK30DHV"
      },
      "source": [
        "Now I will try k=6."
      ]
    },
    {
      "cell_type": "code",
      "metadata": {
        "colab": {
          "base_uri": "https://localhost:8080/",
          "height": 173
        },
        "id": "4nf4x9y30EoD",
        "outputId": "92946d00-c818-44f0-f5c7-dc002c326f57"
      },
      "source": [
        "neigh = KNeighborsClassifier(n_neighbors=6)\r\n",
        "neigh.fit(X_train,y_train)\r\n",
        "y_pred = neigh.predict(X_test)\r\n",
        "\r\n",
        "scores = {}\r\n",
        "scores['K Value'] = \"6\"\r\n",
        "scores['Accuracy'] = accuracy_score(y_test, y_pred)\r\n",
        "scores['F1'] = f1_score(y_test, y_pred)\r\n",
        "scores['Recall'] = recall_score(y_test, y_pred)\r\n",
        "scores['Precision'] = precision_score(y_test, y_pred)\r\n",
        "\r\n",
        "scores_df = scores_df.append(scores, ignore_index=True)\r\n",
        "scores_df"
      ],
      "execution_count": null,
      "outputs": [
        {
          "output_type": "execute_result",
          "data": {
            "text/html": [
              "<div>\n",
              "<style scoped>\n",
              "    .dataframe tbody tr th:only-of-type {\n",
              "        vertical-align: middle;\n",
              "    }\n",
              "\n",
              "    .dataframe tbody tr th {\n",
              "        vertical-align: top;\n",
              "    }\n",
              "\n",
              "    .dataframe thead th {\n",
              "        text-align: right;\n",
              "    }\n",
              "</style>\n",
              "<table border=\"1\" class=\"dataframe\">\n",
              "  <thead>\n",
              "    <tr style=\"text-align: right;\">\n",
              "      <th></th>\n",
              "      <th>K Value</th>\n",
              "      <th>Accuracy</th>\n",
              "      <th>F1</th>\n",
              "      <th>Recall</th>\n",
              "      <th>Precision</th>\n",
              "    </tr>\n",
              "  </thead>\n",
              "  <tbody>\n",
              "    <tr>\n",
              "      <th>0</th>\n",
              "      <td>1</td>\n",
              "      <td>0.586667</td>\n",
              "      <td>0.354167</td>\n",
              "      <td>0.320755</td>\n",
              "      <td>0.395349</td>\n",
              "    </tr>\n",
              "    <tr>\n",
              "      <th>1</th>\n",
              "      <td>2</td>\n",
              "      <td>0.586667</td>\n",
              "      <td>0.0882353</td>\n",
              "      <td>0.0566038</td>\n",
              "      <td>0.2</td>\n",
              "    </tr>\n",
              "    <tr>\n",
              "      <th>2</th>\n",
              "      <td>3</td>\n",
              "      <td>0.566667</td>\n",
              "      <td>0.235294</td>\n",
              "      <td>0.188679</td>\n",
              "      <td>0.3125</td>\n",
              "    </tr>\n",
              "    <tr>\n",
              "      <th>3</th>\n",
              "      <td>6</td>\n",
              "      <td>0.613333</td>\n",
              "      <td>0.236842</td>\n",
              "      <td>0.169811</td>\n",
              "      <td>0.391304</td>\n",
              "    </tr>\n",
              "  </tbody>\n",
              "</table>\n",
              "</div>"
            ],
            "text/plain": [
              "  K Value  Accuracy         F1     Recall Precision\n",
              "0       1  0.586667   0.354167   0.320755  0.395349\n",
              "1       2  0.586667  0.0882353  0.0566038       0.2\n",
              "2       3  0.566667   0.235294   0.188679    0.3125\n",
              "3       6  0.613333   0.236842   0.169811  0.391304"
            ]
          },
          "metadata": {
            "tags": []
          },
          "execution_count": 103
        }
      ]
    },
    {
      "cell_type": "markdown",
      "metadata": {
        "id": "QqgGUi4o0OMz"
      },
      "source": [
        "Lastly, I will try k=12."
      ]
    },
    {
      "cell_type": "code",
      "metadata": {
        "colab": {
          "base_uri": "https://localhost:8080/",
          "height": 204
        },
        "id": "GsBDevA40QLT",
        "outputId": "b5debca8-ed2f-4333-f8d7-1e9873239e3d"
      },
      "source": [
        "neigh = KNeighborsClassifier(n_neighbors=12)\r\n",
        "neigh.fit(X_train,y_train)\r\n",
        "y_pred = neigh.predict(X_test)\r\n",
        "\r\n",
        "scores = {}\r\n",
        "scores['K Value'] = \"12\"\r\n",
        "scores['Accuracy'] = accuracy_score(y_test, y_pred)\r\n",
        "scores['F1'] = f1_score(y_test, y_pred)\r\n",
        "scores['Recall'] = recall_score(y_test, y_pred)\r\n",
        "scores['Precision'] = precision_score(y_test, y_pred)\r\n",
        "\r\n",
        "scores_df = scores_df.append(scores, ignore_index=True)\r\n",
        "scores_df"
      ],
      "execution_count": null,
      "outputs": [
        {
          "output_type": "execute_result",
          "data": {
            "text/html": [
              "<div>\n",
              "<style scoped>\n",
              "    .dataframe tbody tr th:only-of-type {\n",
              "        vertical-align: middle;\n",
              "    }\n",
              "\n",
              "    .dataframe tbody tr th {\n",
              "        vertical-align: top;\n",
              "    }\n",
              "\n",
              "    .dataframe thead th {\n",
              "        text-align: right;\n",
              "    }\n",
              "</style>\n",
              "<table border=\"1\" class=\"dataframe\">\n",
              "  <thead>\n",
              "    <tr style=\"text-align: right;\">\n",
              "      <th></th>\n",
              "      <th>K Value</th>\n",
              "      <th>Accuracy</th>\n",
              "      <th>F1</th>\n",
              "      <th>Recall</th>\n",
              "      <th>Precision</th>\n",
              "    </tr>\n",
              "  </thead>\n",
              "  <tbody>\n",
              "    <tr>\n",
              "      <th>0</th>\n",
              "      <td>1</td>\n",
              "      <td>0.586667</td>\n",
              "      <td>0.354167</td>\n",
              "      <td>0.320755</td>\n",
              "      <td>0.395349</td>\n",
              "    </tr>\n",
              "    <tr>\n",
              "      <th>1</th>\n",
              "      <td>2</td>\n",
              "      <td>0.586667</td>\n",
              "      <td>0.0882353</td>\n",
              "      <td>0.0566038</td>\n",
              "      <td>0.2</td>\n",
              "    </tr>\n",
              "    <tr>\n",
              "      <th>2</th>\n",
              "      <td>3</td>\n",
              "      <td>0.566667</td>\n",
              "      <td>0.235294</td>\n",
              "      <td>0.188679</td>\n",
              "      <td>0.3125</td>\n",
              "    </tr>\n",
              "    <tr>\n",
              "      <th>3</th>\n",
              "      <td>6</td>\n",
              "      <td>0.613333</td>\n",
              "      <td>0.236842</td>\n",
              "      <td>0.169811</td>\n",
              "      <td>0.391304</td>\n",
              "    </tr>\n",
              "    <tr>\n",
              "      <th>4</th>\n",
              "      <td>12</td>\n",
              "      <td>0.653333</td>\n",
              "      <td>0.212121</td>\n",
              "      <td>0.132075</td>\n",
              "      <td>0.538462</td>\n",
              "    </tr>\n",
              "  </tbody>\n",
              "</table>\n",
              "</div>"
            ],
            "text/plain": [
              "  K Value  Accuracy         F1     Recall Precision\n",
              "0       1  0.586667   0.354167   0.320755  0.395349\n",
              "1       2  0.586667  0.0882353  0.0566038       0.2\n",
              "2       3  0.566667   0.235294   0.188679    0.3125\n",
              "3       6  0.613333   0.236842   0.169811  0.391304\n",
              "4      12  0.653333   0.212121   0.132075  0.538462"
            ]
          },
          "metadata": {
            "tags": []
          },
          "execution_count": 104
        }
      ]
    },
    {
      "cell_type": "markdown",
      "metadata": {
        "id": "279KmjMd3F3R"
      },
      "source": [
        "In here, we can see that our Precision and Accuracy is all time high in the k-value 12, however our F1 and Recall went down. In k-value 6, our F1 and Recall numbers were higher."
      ]
    }
  ]
}