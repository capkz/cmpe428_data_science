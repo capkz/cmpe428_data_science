{
  "nbformat": 4,
  "nbformat_minor": 0,
  "metadata": {
    "colab": {
      "name": "CMSE428 Çağıl Peköz 17330172 Task 5.ipynb",
      "provenance": [],
      "toc_visible": true
    },
    "kernelspec": {
      "name": "python3",
      "display_name": "Python 3"
    }
  },
  "cells": [
    {
      "cell_type": "markdown",
      "metadata": {
        "id": "XNyqbjcb2S4_"
      },
      "source": [
        "Installing scikit-learn-extra for KMedoids"
      ]
    },
    {
      "cell_type": "code",
      "metadata": {
        "id": "7Si0GpBT15jl"
      },
      "source": [
        "pip install scikit-learn-extra"
      ],
      "execution_count": null,
      "outputs": []
    },
    {
      "cell_type": "markdown",
      "metadata": {
        "id": "XL0zYPpH2Rht"
      },
      "source": [
        "Importing Libraries"
      ]
    },
    {
      "cell_type": "code",
      "metadata": {
        "id": "Cx2nudKjS5pO"
      },
      "source": [
        "import pandas as pd\r\n",
        "import numpy as np\r\n",
        "import seaborn as sns\r\n",
        "import matplotlib.pyplot as plt\r\n",
        "import statsmodels.api as sm\r\n",
        "\r\n",
        "import matplotlib.pyplot as plt\r\n",
        "from math import sqrt\r\n",
        "from sklearn import preprocessing\r\n",
        "from sklearn.metrics import silhouette_score\r\n",
        "from sklearn_extra.cluster import KMedoids\r\n",
        "from sklearn.cluster import KMeans\r\n",
        "from sklearn.neighbors import KNeighborsClassifier\r\n",
        "from sklearn.model_selection import train_test_split\r\n",
        "from sklearn.linear_model import LogisticRegression\r\n",
        "from sklearn.metrics import accuracy_score, f1_score, recall_score, precision_score"
      ],
      "execution_count": null,
      "outputs": []
    },
    {
      "cell_type": "markdown",
      "metadata": {
        "id": "_ucWZeYOWUZC"
      },
      "source": [
        "Import CSV"
      ]
    },
    {
      "cell_type": "code",
      "metadata": {
        "id": "QIx1ZffoWELS"
      },
      "source": [
        "df = pd.read_csv('stdData 1.csv')"
      ],
      "execution_count": null,
      "outputs": []
    },
    {
      "cell_type": "code",
      "metadata": {
        "colab": {
          "base_uri": "https://localhost:8080/",
          "height": 204
        },
        "id": "L_oyidqhWRqf",
        "outputId": "5075a1bc-440e-4f93-9d09-8f7afe5bf8a4"
      },
      "source": [
        "df.head()"
      ],
      "execution_count": null,
      "outputs": [
        {
          "output_type": "execute_result",
          "data": {
            "text/html": [
              "<div>\n",
              "<style scoped>\n",
              "    .dataframe tbody tr th:only-of-type {\n",
              "        vertical-align: middle;\n",
              "    }\n",
              "\n",
              "    .dataframe tbody tr th {\n",
              "        vertical-align: top;\n",
              "    }\n",
              "\n",
              "    .dataframe thead th {\n",
              "        text-align: right;\n",
              "    }\n",
              "</style>\n",
              "<table border=\"1\" class=\"dataframe\">\n",
              "  <thead>\n",
              "    <tr style=\"text-align: right;\">\n",
              "      <th></th>\n",
              "      <th>V1</th>\n",
              "      <th>V2</th>\n",
              "      <th>V3</th>\n",
              "      <th>V4</th>\n",
              "      <th>V5</th>\n",
              "      <th>V6</th>\n",
              "      <th>V7</th>\n",
              "      <th>V8</th>\n",
              "    </tr>\n",
              "  </thead>\n",
              "  <tbody>\n",
              "    <tr>\n",
              "      <th>0</th>\n",
              "      <td>1.221400</td>\n",
              "      <td>128.101200</td>\n",
              "      <td>80.035036</td>\n",
              "      <td>35.431417</td>\n",
              "      <td>180.956968</td>\n",
              "      <td>42.944951</td>\n",
              "      <td>1.320305</td>\n",
              "      <td>-0.779046</td>\n",
              "    </tr>\n",
              "    <tr>\n",
              "      <th>1</th>\n",
              "      <td>2.609743</td>\n",
              "      <td>85.891549</td>\n",
              "      <td>58.543681</td>\n",
              "      <td>14.454311</td>\n",
              "      <td>52.545356</td>\n",
              "      <td>33.426070</td>\n",
              "      <td>-0.786571</td>\n",
              "      <td>-1.656509</td>\n",
              "    </tr>\n",
              "    <tr>\n",
              "      <th>2</th>\n",
              "      <td>2.682163</td>\n",
              "      <td>99.782456</td>\n",
              "      <td>68.000884</td>\n",
              "      <td>26.339627</td>\n",
              "      <td>71.578043</td>\n",
              "      <td>37.542894</td>\n",
              "      <td>0.534953</td>\n",
              "      <td>-3.394990</td>\n",
              "    </tr>\n",
              "    <tr>\n",
              "      <th>3</th>\n",
              "      <td>3.196969</td>\n",
              "      <td>115.189168</td>\n",
              "      <td>65.307845</td>\n",
              "      <td>-0.539337</td>\n",
              "      <td>0.269863</td>\n",
              "      <td>20.857287</td>\n",
              "      <td>0.562433</td>\n",
              "      <td>-0.534598</td>\n",
              "    </tr>\n",
              "    <tr>\n",
              "      <th>4</th>\n",
              "      <td>4.790932</td>\n",
              "      <td>144.487763</td>\n",
              "      <td>80.800220</td>\n",
              "      <td>18.937774</td>\n",
              "      <td>-0.033570</td>\n",
              "      <td>31.346055</td>\n",
              "      <td>0.789162</td>\n",
              "      <td>-4.069492</td>\n",
              "    </tr>\n",
              "  </tbody>\n",
              "</table>\n",
              "</div>"
            ],
            "text/plain": [
              "         V1          V2         V3  ...         V6        V7        V8\n",
              "0  1.221400  128.101200  80.035036  ...  42.944951  1.320305 -0.779046\n",
              "1  2.609743   85.891549  58.543681  ...  33.426070 -0.786571 -1.656509\n",
              "2  2.682163   99.782456  68.000884  ...  37.542894  0.534953 -3.394990\n",
              "3  3.196969  115.189168  65.307845  ...  20.857287  0.562433 -0.534598\n",
              "4  4.790932  144.487763  80.800220  ...  31.346055  0.789162 -4.069492\n",
              "\n",
              "[5 rows x 8 columns]"
            ]
          },
          "metadata": {
            "tags": []
          },
          "execution_count": 12
        }
      ]
    },
    {
      "cell_type": "markdown",
      "metadata": {
        "id": "rWnPublqWdsW"
      },
      "source": [
        "# Task"
      ]
    },
    {
      "cell_type": "markdown",
      "metadata": {
        "id": "8iBdhW-pWm9c"
      },
      "source": [
        "## 1) Normalize Dataset with Zero-Mean and Unit-Variance"
      ]
    },
    {
      "cell_type": "markdown",
      "metadata": {
        "id": "SP2W_uGtloS_"
      },
      "source": [
        "According to this page, preprocessing.scale uses both zero-mean and unit-variance by default so I will use this package for normalization."
      ]
    },
    {
      "cell_type": "markdown",
      "metadata": {
        "id": "p-MaKYSij2k5"
      },
      "source": [
        "![image_2021-01-04_012252.png](data:image/png;base64,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)"
      ]
    },
    {
      "cell_type": "code",
      "metadata": {
        "id": "Z1DmQMEbWl8C"
      },
      "source": [
        "scaled = preprocessing.scale(df)"
      ],
      "execution_count": null,
      "outputs": []
    },
    {
      "cell_type": "markdown",
      "metadata": {
        "id": "G1r2XHv6z-w5"
      },
      "source": [
        "Here you can see the dataset that is normalized with zero-mean and unit-variance"
      ]
    },
    {
      "cell_type": "code",
      "metadata": {
        "colab": {
          "base_uri": "https://localhost:8080/"
        },
        "id": "5dRT8fvUZh_d",
        "outputId": "dea2f3f5-9df1-4c91-8c14-5482b79e99ca"
      },
      "source": [
        "scaled"
      ],
      "execution_count": null,
      "outputs": [
        {
          "output_type": "execute_result",
          "data": {
            "text/plain": [
              "array([[-0.76945294,  0.23648162,  0.64327854, ...,  1.38966708,\n",
              "         0.92904772, -0.08883983],\n",
              "       [-0.3372092 , -1.05563171, -0.44776456, ...,  0.17960193,\n",
              "        -1.18555885, -0.35330593],\n",
              "       [-0.31466209, -0.63040605,  0.03234549, ...,  0.70294335,\n",
              "         0.14081448, -0.87728171],\n",
              "       ...,\n",
              "       [-0.38180548, -1.05246099, -3.43710653, ..., -0.11956457,\n",
              "         0.1175073 , -1.28193232],\n",
              "       [ 1.91672977, -1.5847247 ,  1.89013292, ...,  0.6278864 ,\n",
              "        -1.41140105, -1.87223471],\n",
              "       [ 0.23008769,  2.06324196, -0.18828286, ..., -0.14195884,\n",
              "         1.79826771, -0.5663782 ]])"
            ]
          },
          "metadata": {
            "tags": []
          },
          "execution_count": 14
        }
      ]
    },
    {
      "cell_type": "markdown",
      "metadata": {
        "id": "bjCPvxkQ1JX_"
      },
      "source": [
        "# Euclidean Distance Metric"
      ]
    },
    {
      "cell_type": "markdown",
      "metadata": {
        "id": "eDmM1NSt0pro"
      },
      "source": [
        "## 2 and 3) Apply K-means and K between 1-15, Report WSS"
      ]
    },
    {
      "cell_type": "markdown",
      "metadata": {
        "id": "6rQoOwKT0R2J"
      },
      "source": [
        "For each k value, we will initialise k-means and use the inertia to identify the sum of squared distances of samples to the nearest cluster centre. You can also see the WSS values as well."
      ]
    },
    {
      "cell_type": "code",
      "metadata": {
        "colab": {
          "base_uri": "https://localhost:8080/"
        },
        "id": "cEooSwAMZ2IE",
        "outputId": "9522ff9a-d45c-4404-dab6-fa5e3f1aaa3d"
      },
      "source": [
        "WSS = []\r\n",
        "\r\n",
        "K = range(1,15)\r\n",
        "for k in K:\r\n",
        "    km = KMeans(n_clusters=k)\r\n",
        "    km = km.fit(scaled)\r\n",
        "    labels = km.labels_\r\n",
        "    WSS.append(km.inertia_)\r\n",
        "\r\n",
        "WSS"
      ],
      "execution_count": null,
      "outputs": [
        {
          "output_type": "execute_result",
          "data": {
            "text/plain": [
              "[2400.0,\n",
              " 2003.1097725953355,\n",
              " 1822.344254277449,\n",
              " 1655.4244530694486,\n",
              " 1496.0201710912415,\n",
              " 1406.3159591205601,\n",
              " 1327.0514340795207,\n",
              " 1260.4276834379743,\n",
              " 1198.7864889891862,\n",
              " 1156.5432880065841,\n",
              " 1107.8244679387974,\n",
              " 1071.7598346238156,\n",
              " 1042.3292645384183,\n",
              " 1005.8031352316389]"
            ]
          },
          "metadata": {
            "tags": []
          },
          "execution_count": 41
        }
      ]
    },
    {
      "cell_type": "markdown",
      "metadata": {
        "id": "5mIfqCU51Cca"
      },
      "source": [
        "3) Best Fitting K-Value"
      ]
    },
    {
      "cell_type": "markdown",
      "metadata": {
        "id": "ypeCgrEl0z3j"
      },
      "source": [
        "As you can see in the figure below, after K=5 , reduction in total distance changes more slowly and the slope of the line significantly decreased. From this figure, we can infer that going beyond this K value(5) will not contribute much to our clustering algorithm and will only make our clusters more complicated. Therefore, our optimal k-value is 5."
      ]
    },
    {
      "cell_type": "code",
      "metadata": {
        "colab": {
          "base_uri": "https://localhost:8080/",
          "height": 295
        },
        "id": "JhG62aWbwVZg",
        "outputId": "0ddd7470-8e0a-416a-de90-581cee337b26"
      },
      "source": [
        "plt.plot(K, WSS, 'bx-')\r\n",
        "plt.xlabel('k')\r\n",
        "plt.ylabel('WSS')\r\n",
        "plt.title('Elbow Method For Optimal k')\r\n",
        "plt.show()"
      ],
      "execution_count": null,
      "outputs": [
        {
          "output_type": "display_data",
          "data": {
            "image/png": "[encoded data removed]",
            "text/plain": [
              "<Figure size 432x288 with 1 Axes>"
            ]
          },
          "metadata": {
            "tags": [],
            "needs_background": "light"
          }
        }
      ]
    },
    {
      "cell_type": "markdown",
      "metadata": {
        "id": "kIoc7S2E1hfH"
      },
      "source": [
        "# Cosine Similarity Metric"
      ]
    },
    {
      "cell_type": "markdown",
      "metadata": {
        "id": "XT1itGXg1hfH"
      },
      "source": [
        "## 2 and 3) Apply K-means and K between 1-15, Report WSS"
      ]
    },
    {
      "cell_type": "markdown",
      "metadata": {
        "id": "z2YtFNl91hfH"
      },
      "source": [
        "For each k value, we will initialise k-means and use the inertia to identify the sum of squared distances of samples to the nearest cluster centre. You can also see the WSS values as well."
      ]
    },
    {
      "cell_type": "code",
      "metadata": {
        "colab": {
          "base_uri": "https://localhost:8080/"
        },
        "id": "o9uA8BCq1hfI",
        "outputId": "cd126d99-5a60-4773-f435-2979b1e37fcb"
      },
      "source": [
        "WSS = []\r\n",
        "K = range(1,15)\r\n",
        "for k in K:\r\n",
        "    km = KMedoids(n_clusters=k, metric=\"cosine\")\r\n",
        "    km = km.fit(scaled)\r\n",
        "    WSS.append(km.inertia_)\r\n",
        "\r\n",
        "WSS"
      ],
      "execution_count": null,
      "outputs": [
        {
          "output_type": "execute_result",
          "data": {
            "text/plain": [
              "[288.242970310129,\n",
              " 189.5839212478348,\n",
              " 165.68308920594598,\n",
              " 148.56757480024038,\n",
              " 128.65777265237813,\n",
              " 118.61246071483353,\n",
              " 115.6873751909107,\n",
              " 111.35304898042251,\n",
              " 102.52333696062567,\n",
              " 96.10463645382804,\n",
              " 91.93472052318718,\n",
              " 89.45889094030024,\n",
              " 87.25874166929518,\n",
              " 85.93042749442456]"
            ]
          },
          "metadata": {
            "tags": []
          },
          "execution_count": 44
        }
      ]
    },
    {
      "cell_type": "markdown",
      "metadata": {
        "id": "BrrdrEV31hfI"
      },
      "source": [
        "3) Best Fitting K-Value"
      ]
    },
    {
      "cell_type": "markdown",
      "metadata": {
        "id": "f33NkZ-W1hfI"
      },
      "source": [
        "Our optimal k-value in this case is K=5 again."
      ]
    },
    {
      "cell_type": "code",
      "metadata": {
        "colab": {
          "base_uri": "https://localhost:8080/",
          "height": 295
        },
        "id": "E5N7H4qd1hfI",
        "outputId": "5b54515a-8177-402e-cc11-d042e93a7bd8"
      },
      "source": [
        "plt.plot(K, WSS, 'bx-')\r\n",
        "plt.xlabel('k')\r\n",
        "plt.ylabel('WSS')\r\n",
        "plt.title('Elbow Method For Optimal k')\r\n",
        "plt.show()"
      ],
      "execution_count": null,
      "outputs": [
        {
          "output_type": "display_data",
          "data": {
            "image/png": "[encoded data removed]",
            "text/plain": [
              "<Figure size 432x288 with 1 Axes>"
            ]
          },
          "metadata": {
            "tags": [],
            "needs_background": "light"
          }
        }
      ]
    },
    {
      "cell_type": "markdown",
      "metadata": {
        "id": "NsQoUSAD-b9o"
      },
      "source": [
        "# 5) Conclusion"
      ]
    },
    {
      "cell_type": "markdown",
      "metadata": {
        "id": "cHLYlwZP_CWe"
      },
      "source": [
        "In conclusion, I researched about which packages to use for normalizing with unit-variance and zero-mean. I found out that scale() does exactly that by default.\r\n",
        "\r\n",
        "Afterwards, I used KMeans, Kmeans uses \"Euclidean\" metric. However sklearn's KMeans doesn't have \"Cosine\" Metric, therefore I had to find another package for this reason. I found out about KMedoids, which lets me use \"Cosine\" as a metric. \r\n",
        "\r\n",
        "I gave the models a range between k=1 and k=15, and to see which k is better, I ran a loop and tried them all. In each increment, I got their WSS value by using interia. Thanks to WSS, I plotted a graph and used the Elbow Technique to see what k value is the optimal approximately. "
      ]
    }
  ]
}