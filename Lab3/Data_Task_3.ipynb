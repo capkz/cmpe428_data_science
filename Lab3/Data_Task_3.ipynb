{
  "nbformat": 4,
  "nbformat_minor": 0,
  "metadata": {
    "colab": {
      "name": "Data Task 3.ipynb",
      "provenance": []
    },
    "kernelspec": {
      "name": "python3",
      "display_name": "Python 3"
    }
  },
  "cells": [
    {
      "cell_type": "markdown",
      "metadata": {
        "id": "IjvG1un8Z_B8"
      },
      "source": [
        "# CMPE428 Assignment 3\r\n",
        "Building Logistic Regression Classifiers\r\n"
      ]
    },
    {
      "cell_type": "markdown",
      "metadata": {
        "id": "w3Ja8TgT_o-e"
      },
      "source": [
        "Imports"
      ]
    },
    {
      "cell_type": "code",
      "metadata": {
        "id": "VY30-nICncjL"
      },
      "source": [
        "import pandas as pd\r\n",
        "import numpy as np\r\n",
        "import seaborn as sns\r\n",
        "import matplotlib.pyplot as plt\r\n",
        "import statsmodels.api as sm \r\n",
        "import step\r\n",
        "\r\n",
        "from sklearn.model_selection import train_test_split\r\n",
        "from sklearn.linear_model import LogisticRegression\r\n",
        "from sklearn.metrics import accuracy_score, f1_score, recall_score, precision_score"
      ],
      "execution_count": 56,
      "outputs": []
    },
    {
      "cell_type": "markdown",
      "metadata": {
        "id": "Iicb6y2WBact"
      },
      "source": [
        "Import CSV"
      ]
    },
    {
      "cell_type": "code",
      "metadata": {
        "id": "ox3rbt9xoTeP"
      },
      "source": [
        "df = pd.read_csv('stdData.csv')"
      ],
      "execution_count": 2,
      "outputs": []
    },
    {
      "cell_type": "code",
      "metadata": {
        "colab": {
          "base_uri": "https://localhost:8080/",
          "height": 204
        },
        "id": "gfmj8Kb2ooLy",
        "outputId": "3f77a1b4-a177-42db-9279-a8fee9d32ce1"
      },
      "source": [
        "df.head()"
      ],
      "execution_count": 3,
      "outputs": [
        {
          "output_type": "execute_result",
          "data": {
            "text/html": [
              "<div>\n",
              "<style scoped>\n",
              "    .dataframe tbody tr th:only-of-type {\n",
              "        vertical-align: middle;\n",
              "    }\n",
              "\n",
              "    .dataframe tbody tr th {\n",
              "        vertical-align: top;\n",
              "    }\n",
              "\n",
              "    .dataframe thead th {\n",
              "        text-align: right;\n",
              "    }\n",
              "</style>\n",
              "<table border=\"1\" class=\"dataframe\">\n",
              "  <thead>\n",
              "    <tr style=\"text-align: right;\">\n",
              "      <th></th>\n",
              "      <th>Label</th>\n",
              "      <th>V1</th>\n",
              "      <th>V2</th>\n",
              "      <th>V3</th>\n",
              "      <th>V4</th>\n",
              "      <th>V5</th>\n",
              "      <th>V6</th>\n",
              "      <th>V7</th>\n",
              "      <th>V8</th>\n",
              "    </tr>\n",
              "  </thead>\n",
              "  <tbody>\n",
              "    <tr>\n",
              "      <th>0</th>\n",
              "      <td>positive</td>\n",
              "      <td>1.221400</td>\n",
              "      <td>128.101200</td>\n",
              "      <td>80.035036</td>\n",
              "      <td>35.431417</td>\n",
              "      <td>180.956968</td>\n",
              "      <td>42.944951</td>\n",
              "      <td>1.320305</td>\n",
              "      <td>-0.779046</td>\n",
              "    </tr>\n",
              "    <tr>\n",
              "      <th>1</th>\n",
              "      <td>negative</td>\n",
              "      <td>2.609743</td>\n",
              "      <td>85.891549</td>\n",
              "      <td>58.543681</td>\n",
              "      <td>14.454311</td>\n",
              "      <td>52.545356</td>\n",
              "      <td>33.426070</td>\n",
              "      <td>-0.786571</td>\n",
              "      <td>-1.656509</td>\n",
              "    </tr>\n",
              "    <tr>\n",
              "      <th>2</th>\n",
              "      <td>negative</td>\n",
              "      <td>2.682163</td>\n",
              "      <td>99.782456</td>\n",
              "      <td>68.000884</td>\n",
              "      <td>26.339627</td>\n",
              "      <td>71.578043</td>\n",
              "      <td>37.542894</td>\n",
              "      <td>0.534953</td>\n",
              "      <td>-3.394990</td>\n",
              "    </tr>\n",
              "    <tr>\n",
              "      <th>3</th>\n",
              "      <td>negative</td>\n",
              "      <td>3.196969</td>\n",
              "      <td>115.189168</td>\n",
              "      <td>65.307845</td>\n",
              "      <td>-0.539337</td>\n",
              "      <td>0.269863</td>\n",
              "      <td>20.857287</td>\n",
              "      <td>0.562433</td>\n",
              "      <td>-0.534598</td>\n",
              "    </tr>\n",
              "    <tr>\n",
              "      <th>4</th>\n",
              "      <td>positive</td>\n",
              "      <td>4.790932</td>\n",
              "      <td>144.487763</td>\n",
              "      <td>80.800220</td>\n",
              "      <td>18.937774</td>\n",
              "      <td>-0.033570</td>\n",
              "      <td>31.346055</td>\n",
              "      <td>0.789162</td>\n",
              "      <td>-4.069492</td>\n",
              "    </tr>\n",
              "  </tbody>\n",
              "</table>\n",
              "</div>"
            ],
            "text/plain": [
              "      Label        V1          V2  ...         V6        V7        V8\n",
              "0  positive  1.221400  128.101200  ...  42.944951  1.320305 -0.779046\n",
              "1  negative  2.609743   85.891549  ...  33.426070 -0.786571 -1.656509\n",
              "2  negative  2.682163   99.782456  ...  37.542894  0.534953 -3.394990\n",
              "3  negative  3.196969  115.189168  ...  20.857287  0.562433 -0.534598\n",
              "4  positive  4.790932  144.487763  ...  31.346055  0.789162 -4.069492\n",
              "\n",
              "[5 rows x 9 columns]"
            ]
          },
          "metadata": {
            "tags": []
          },
          "execution_count": 3
        }
      ]
    },
    {
      "cell_type": "markdown",
      "metadata": {
        "id": "9X4MhSyYaWnm"
      },
      "source": [
        "## Task 1"
      ]
    },
    {
      "cell_type": "markdown",
      "metadata": {
        "id": "o341nqlIBe65"
      },
      "source": [
        "### Split Dataset with Equal Positives and Negatives"
      ]
    },
    {
      "cell_type": "markdown",
      "metadata": {
        "id": "YhtqDmWtaefz"
      },
      "source": [
        "We can see the amount of negatives and positives with this command"
      ]
    },
    {
      "cell_type": "code",
      "metadata": {
        "colab": {
          "base_uri": "https://localhost:8080/"
        },
        "id": "i1mBrvHKoqhP",
        "outputId": "8a08ead1-b818-4a11-929c-879de759c9a2"
      },
      "source": [
        "df.Label.value_counts()"
      ],
      "execution_count": 4,
      "outputs": [
        {
          "output_type": "execute_result",
          "data": {
            "text/plain": [
              "negative    195\n",
              "positive    105\n",
              "Name: Label, dtype: int64"
            ]
          },
          "metadata": {
            "tags": []
          },
          "execution_count": 4
        }
      ]
    },
    {
      "cell_type": "markdown",
      "metadata": {
        "id": "U_TdgPS7Bh7l"
      },
      "source": [
        "#### Replacing Categorical with Binary"
      ]
    },
    {
      "cell_type": "code",
      "metadata": {
        "id": "8Z8sRhEnp8U5"
      },
      "source": [
        "df[\"Label\"] = df[\"Label\"].replace({\"positive\":1,\"negative\":0})"
      ],
      "execution_count": 5,
      "outputs": []
    },
    {
      "cell_type": "code",
      "metadata": {
        "colab": {
          "base_uri": "https://localhost:8080/",
          "height": 204
        },
        "id": "wAmbq_j15Gk3",
        "outputId": "68752b23-1138-4189-d339-95aa90a62cfa"
      },
      "source": [
        "df.head()"
      ],
      "execution_count": 6,
      "outputs": [
        {
          "output_type": "execute_result",
          "data": {
            "text/html": [
              "<div>\n",
              "<style scoped>\n",
              "    .dataframe tbody tr th:only-of-type {\n",
              "        vertical-align: middle;\n",
              "    }\n",
              "\n",
              "    .dataframe tbody tr th {\n",
              "        vertical-align: top;\n",
              "    }\n",
              "\n",
              "    .dataframe thead th {\n",
              "        text-align: right;\n",
              "    }\n",
              "</style>\n",
              "<table border=\"1\" class=\"dataframe\">\n",
              "  <thead>\n",
              "    <tr style=\"text-align: right;\">\n",
              "      <th></th>\n",
              "      <th>Label</th>\n",
              "      <th>V1</th>\n",
              "      <th>V2</th>\n",
              "      <th>V3</th>\n",
              "      <th>V4</th>\n",
              "      <th>V5</th>\n",
              "      <th>V6</th>\n",
              "      <th>V7</th>\n",
              "      <th>V8</th>\n",
              "    </tr>\n",
              "  </thead>\n",
              "  <tbody>\n",
              "    <tr>\n",
              "      <th>0</th>\n",
              "      <td>1</td>\n",
              "      <td>1.221400</td>\n",
              "      <td>128.101200</td>\n",
              "      <td>80.035036</td>\n",
              "      <td>35.431417</td>\n",
              "      <td>180.956968</td>\n",
              "      <td>42.944951</td>\n",
              "      <td>1.320305</td>\n",
              "      <td>-0.779046</td>\n",
              "    </tr>\n",
              "    <tr>\n",
              "      <th>1</th>\n",
              "      <td>0</td>\n",
              "      <td>2.609743</td>\n",
              "      <td>85.891549</td>\n",
              "      <td>58.543681</td>\n",
              "      <td>14.454311</td>\n",
              "      <td>52.545356</td>\n",
              "      <td>33.426070</td>\n",
              "      <td>-0.786571</td>\n",
              "      <td>-1.656509</td>\n",
              "    </tr>\n",
              "    <tr>\n",
              "      <th>2</th>\n",
              "      <td>0</td>\n",
              "      <td>2.682163</td>\n",
              "      <td>99.782456</td>\n",
              "      <td>68.000884</td>\n",
              "      <td>26.339627</td>\n",
              "      <td>71.578043</td>\n",
              "      <td>37.542894</td>\n",
              "      <td>0.534953</td>\n",
              "      <td>-3.394990</td>\n",
              "    </tr>\n",
              "    <tr>\n",
              "      <th>3</th>\n",
              "      <td>0</td>\n",
              "      <td>3.196969</td>\n",
              "      <td>115.189168</td>\n",
              "      <td>65.307845</td>\n",
              "      <td>-0.539337</td>\n",
              "      <td>0.269863</td>\n",
              "      <td>20.857287</td>\n",
              "      <td>0.562433</td>\n",
              "      <td>-0.534598</td>\n",
              "    </tr>\n",
              "    <tr>\n",
              "      <th>4</th>\n",
              "      <td>1</td>\n",
              "      <td>4.790932</td>\n",
              "      <td>144.487763</td>\n",
              "      <td>80.800220</td>\n",
              "      <td>18.937774</td>\n",
              "      <td>-0.033570</td>\n",
              "      <td>31.346055</td>\n",
              "      <td>0.789162</td>\n",
              "      <td>-4.069492</td>\n",
              "    </tr>\n",
              "  </tbody>\n",
              "</table>\n",
              "</div>"
            ],
            "text/plain": [
              "   Label        V1          V2  ...         V6        V7        V8\n",
              "0      1  1.221400  128.101200  ...  42.944951  1.320305 -0.779046\n",
              "1      0  2.609743   85.891549  ...  33.426070 -0.786571 -1.656509\n",
              "2      0  2.682163   99.782456  ...  37.542894  0.534953 -3.394990\n",
              "3      0  3.196969  115.189168  ...  20.857287  0.562433 -0.534598\n",
              "4      1  4.790932  144.487763  ...  31.346055  0.789162 -4.069492\n",
              "\n",
              "[5 rows x 9 columns]"
            ]
          },
          "metadata": {
            "tags": []
          },
          "execution_count": 6
        }
      ]
    },
    {
      "cell_type": "markdown",
      "metadata": {
        "id": "ANjfl4oCBnlu"
      },
      "source": [
        "#### Splitting Dataset Into 2, with Equal Amounts of Negative and Positive"
      ]
    },
    {
      "cell_type": "markdown",
      "metadata": {
        "id": "zBOB-_2javBJ"
      },
      "source": [
        "We use stratify on y and split our dataframe into 2, so that we get equal distribution of negatives and positives."
      ]
    },
    {
      "cell_type": "code",
      "metadata": {
        "id": "xgvns9Lw5IHr"
      },
      "source": [
        "X_train, X_test, y_train, y_test = train_test_split(X, y,test_size = 0.5, stratify = y)"
      ],
      "execution_count": 39,
      "outputs": []
    },
    {
      "cell_type": "code",
      "metadata": {
        "colab": {
          "base_uri": "https://localhost:8080/"
        },
        "id": "S6R9UqxX7GIh",
        "outputId": "6d899442-9987-46c6-99ca-0cc23d7933c8"
      },
      "source": [
        "y_train.value_counts()"
      ],
      "execution_count": 37,
      "outputs": [
        {
          "output_type": "execute_result",
          "data": {
            "text/plain": [
              "0    97\n",
              "1    53\n",
              "Name: Label, dtype: int64"
            ]
          },
          "metadata": {
            "tags": []
          },
          "execution_count": 37
        }
      ]
    },
    {
      "cell_type": "code",
      "metadata": {
        "colab": {
          "base_uri": "https://localhost:8080/"
        },
        "id": "GEFNO-bV7MD9",
        "outputId": "608195dd-9be8-42d9-e0c7-7137cf9fb6c0"
      },
      "source": [
        "y_test.value_counts()"
      ],
      "execution_count": 38,
      "outputs": [
        {
          "output_type": "execute_result",
          "data": {
            "text/plain": [
              "0    98\n",
              "1    52\n",
              "Name: Label, dtype: int64"
            ]
          },
          "metadata": {
            "tags": []
          },
          "execution_count": 38
        }
      ]
    },
    {
      "cell_type": "markdown",
      "metadata": {
        "id": "jVjCSIsCbW9w"
      },
      "source": [
        "We can see that numbers of 0 and 1 is equal across test and train."
      ]
    },
    {
      "cell_type": "markdown",
      "metadata": {
        "id": "QpHssh62FmLk"
      },
      "source": [
        "### Logistic Regression"
      ]
    },
    {
      "cell_type": "markdown",
      "metadata": {
        "id": "pe6ELRAIbr9M"
      },
      "source": [
        "We will use sklearn's logistic in order to get our accuracy, f1, recall and precision scores."
      ]
    },
    {
      "cell_type": "code",
      "metadata": {
        "id": "iLF1HBhmFsjI"
      },
      "source": [
        "regression = LogisticRegression(solver = \"liblinear\")\r\n",
        "\r\n",
        "model = regression.fit(X_train, y_train)\r\n",
        "y_pred = model.predict(X_test)"
      ],
      "execution_count": 69,
      "outputs": []
    },
    {
      "cell_type": "markdown",
      "metadata": {
        "id": "ExWQHtLQcAF8"
      },
      "source": [
        "### Computing Scores"
      ]
    },
    {
      "cell_type": "markdown",
      "metadata": {
        "id": "HTvuPsqmbzmf"
      },
      "source": [
        "Scores are calculated and inserted into the dataframe to be easily compared with the other model's scores later on."
      ]
    },
    {
      "cell_type": "code",
      "metadata": {
        "colab": {
          "base_uri": "https://localhost:8080/",
          "height": 80
        },
        "id": "Va-K1_15GVAw",
        "outputId": "4f2fc9c5-fd4c-4aba-c9bd-7be4668ee22f"
      },
      "source": [
        "scores = {}\r\n",
        "scores['Accuracy'] = accuracy_score(y_test, y_pred)\r\n",
        "scores['F1'] = f1_score(y_test, y_pred)\r\n",
        "scores['Recall'] = recall_score(y_test, y_pred)\r\n",
        "scores['Precision'] = precision_score(y_test, y_pred)\r\n",
        "\r\n",
        "scores = pd.DataFrame.from_dict(scores, orient='index', columns=['First DF'])\r\n",
        "scores = scores.transpose()\r\n",
        "scores"
      ],
      "execution_count": 99,
      "outputs": [
        {
          "output_type": "execute_result",
          "data": {
            "text/html": [
              "<div>\n",
              "<style scoped>\n",
              "    .dataframe tbody tr th:only-of-type {\n",
              "        vertical-align: middle;\n",
              "    }\n",
              "\n",
              "    .dataframe tbody tr th {\n",
              "        vertical-align: top;\n",
              "    }\n",
              "\n",
              "    .dataframe thead th {\n",
              "        text-align: right;\n",
              "    }\n",
              "</style>\n",
              "<table border=\"1\" class=\"dataframe\">\n",
              "  <thead>\n",
              "    <tr style=\"text-align: right;\">\n",
              "      <th></th>\n",
              "      <th>Accuracy</th>\n",
              "      <th>F1</th>\n",
              "      <th>Recall</th>\n",
              "      <th>Precision</th>\n",
              "    </tr>\n",
              "  </thead>\n",
              "  <tbody>\n",
              "    <tr>\n",
              "      <th>First DF</th>\n",
              "      <td>0.573333</td>\n",
              "      <td>0.288889</td>\n",
              "      <td>0.276596</td>\n",
              "      <td>0.302326</td>\n",
              "    </tr>\n",
              "  </tbody>\n",
              "</table>\n",
              "</div>"
            ],
            "text/plain": [
              "          Accuracy        F1    Recall  Precision\n",
              "First DF  0.573333  0.288889  0.276596   0.302326"
            ]
          },
          "metadata": {
            "tags": []
          },
          "execution_count": 99
        }
      ]
    },
    {
      "cell_type": "markdown",
      "metadata": {
        "id": "MVk-4wZ7cFj4"
      },
      "source": [
        "## Task 2"
      ]
    },
    {
      "cell_type": "markdown",
      "metadata": {
        "id": "yjUz2ROWLW-z"
      },
      "source": [
        "#### Identify Weak Variables by P-Value\r\n",
        "\r\n",
        "Since sklearn doesn't have a way to check P-Value, I will use statsmodels to check P Values.\r\n",
        "\r\n",
        "It can be seen that highest P values are V4,V5,V6 and V7 therefore it is the weakest data."
      ]
    },
    {
      "cell_type": "code",
      "metadata": {
        "colab": {
          "base_uri": "https://localhost:8080/",
          "height": 425
        },
        "id": "ho7ZpuFQI8vm",
        "outputId": "4831401d-faa0-42a4-e3e4-276c0c7c155d"
      },
      "source": [
        "model = sm.Logit(y_train, X_train).fit()\r\n",
        "model.summary()"
      ],
      "execution_count": 73,
      "outputs": [
        {
          "output_type": "stream",
          "text": [
            "Optimization terminated successfully.\n",
            "         Current function value: 0.544965\n",
            "         Iterations 6\n"
          ],
          "name": "stdout"
        },
        {
          "output_type": "execute_result",
          "data": {
            "text/html": [
              "<table class=\"simpletable\">\n",
              "<caption>Logit Regression Results</caption>\n",
              "<tr>\n",
              "  <th>Dep. Variable:</th>         <td>Label</td>      <th>  No. Observations:  </th>  <td>   150</td>  \n",
              "</tr>\n",
              "<tr>\n",
              "  <th>Model:</th>                 <td>Logit</td>      <th>  Df Residuals:      </th>  <td>   142</td>  \n",
              "</tr>\n",
              "<tr>\n",
              "  <th>Method:</th>                 <td>MLE</td>       <th>  Df Model:          </th>  <td>     7</td>  \n",
              "</tr>\n",
              "<tr>\n",
              "  <th>Date:</th>            <td>Tue, 15 Dec 2020</td> <th>  Pseudo R-squ.:     </th>  <td>0.1609</td>  \n",
              "</tr>\n",
              "<tr>\n",
              "  <th>Time:</th>                <td>21:12:05</td>     <th>  Log-Likelihood:    </th> <td> -81.745</td> \n",
              "</tr>\n",
              "<tr>\n",
              "  <th>converged:</th>             <td>True</td>       <th>  LL-Null:           </th> <td> -97.423</td> \n",
              "</tr>\n",
              "<tr>\n",
              "  <th>Covariance Type:</th>     <td>nonrobust</td>    <th>  LLR p-value:       </th> <td>5.344e-05</td>\n",
              "</tr>\n",
              "</table>\n",
              "<table class=\"simpletable\">\n",
              "<tr>\n",
              "   <td></td>     <th>coef</th>     <th>std err</th>      <th>z</th>      <th>P>|z|</th>  <th>[0.025</th>    <th>0.975]</th>  \n",
              "</tr>\n",
              "<tr>\n",
              "  <th>V1</th> <td>    0.1589</td> <td>    0.067</td> <td>    2.378</td> <td> 0.017</td> <td>    0.028</td> <td>    0.290</td>\n",
              "</tr>\n",
              "<tr>\n",
              "  <th>V2</th> <td>    0.0244</td> <td>    0.007</td> <td>    3.341</td> <td> 0.001</td> <td>    0.010</td> <td>    0.039</td>\n",
              "</tr>\n",
              "<tr>\n",
              "  <th>V3</th> <td>   -0.0653</td> <td>    0.015</td> <td>   -4.367</td> <td> 0.000</td> <td>   -0.095</td> <td>   -0.036</td>\n",
              "</tr>\n",
              "<tr>\n",
              "  <th>V4</th> <td>   -0.0164</td> <td>    0.016</td> <td>   -1.021</td> <td> 0.307</td> <td>   -0.048</td> <td>    0.015</td>\n",
              "</tr>\n",
              "<tr>\n",
              "  <th>V5</th> <td>   -0.0026</td> <td>    0.002</td> <td>   -1.080</td> <td> 0.280</td> <td>   -0.007</td> <td>    0.002</td>\n",
              "</tr>\n",
              "<tr>\n",
              "  <th>V6</th> <td>    0.0284</td> <td>    0.028</td> <td>    1.008</td> <td> 0.313</td> <td>   -0.027</td> <td>    0.083</td>\n",
              "</tr>\n",
              "<tr>\n",
              "  <th>V7</th> <td>    0.0525</td> <td>    0.193</td> <td>    0.272</td> <td> 0.785</td> <td>   -0.325</td> <td>    0.430</td>\n",
              "</tr>\n",
              "<tr>\n",
              "  <th>V8</th> <td>    0.0452</td> <td>    0.059</td> <td>    0.765</td> <td> 0.444</td> <td>   -0.071</td> <td>    0.161</td>\n",
              "</tr>\n",
              "</table>"
            ],
            "text/plain": [
              "<class 'statsmodels.iolib.summary.Summary'>\n",
              "\"\"\"\n",
              "                           Logit Regression Results                           \n",
              "==============================================================================\n",
              "Dep. Variable:                  Label   No. Observations:                  150\n",
              "Model:                          Logit   Df Residuals:                      142\n",
              "Method:                           MLE   Df Model:                            7\n",
              "Date:                Tue, 15 Dec 2020   Pseudo R-squ.:                  0.1609\n",
              "Time:                        21:12:05   Log-Likelihood:                -81.745\n",
              "converged:                       True   LL-Null:                       -97.423\n",
              "Covariance Type:            nonrobust   LLR p-value:                 5.344e-05\n",
              "==============================================================================\n",
              "                 coef    std err          z      P>|z|      [0.025      0.975]\n",
              "------------------------------------------------------------------------------\n",
              "V1             0.1589      0.067      2.378      0.017       0.028       0.290\n",
              "V2             0.0244      0.007      3.341      0.001       0.010       0.039\n",
              "V3            -0.0653      0.015     -4.367      0.000      -0.095      -0.036\n",
              "V4            -0.0164      0.016     -1.021      0.307      -0.048       0.015\n",
              "V5            -0.0026      0.002     -1.080      0.280      -0.007       0.002\n",
              "V6             0.0284      0.028      1.008      0.313      -0.027       0.083\n",
              "V7             0.0525      0.193      0.272      0.785      -0.325       0.430\n",
              "V8             0.0452      0.059      0.765      0.444      -0.071       0.161\n",
              "==============================================================================\n",
              "\"\"\""
            ]
          },
          "metadata": {
            "tags": []
          },
          "execution_count": 73
        }
      ]
    },
    {
      "cell_type": "markdown",
      "metadata": {
        "id": "_jllU336c_Lq"
      },
      "source": [
        "#### Using Backward Elimination\r\n"
      ]
    },
    {
      "cell_type": "code",
      "metadata": {
        "colab": {
          "base_uri": "https://localhost:8080/"
        },
        "id": "qAL5SKXIPkRQ",
        "outputId": "eb319626-1cf4-49cf-a539-70bf7491b020"
      },
      "source": [
        "step.forwardSelection(X_train, y_train)"
      ],
      "execution_count": 74,
      "outputs": [
        {
          "output_type": "stream",
          "text": [
            "Character Variables (Dummies Generated, First Dummies Dropped): []\n",
            "Optimization terminated successfully.\n",
            "         Current function value: 0.649486\n",
            "         Iterations 4\n",
            "Optimization terminated successfully.\n",
            "         Current function value: 0.615793\n",
            "         Iterations 5\n",
            "Optimization terminated successfully.\n",
            "         Current function value: 0.517354\n",
            "         Iterations 6\n",
            "Optimization terminated successfully.\n",
            "         Current function value: 0.649468\n",
            "         Iterations 4\n",
            "Optimization terminated successfully.\n",
            "         Current function value: 0.648133\n",
            "         Iterations 4\n",
            "Optimization terminated successfully.\n",
            "         Current function value: 0.649366\n",
            "         Iterations 4\n",
            "Optimization terminated successfully.\n",
            "         Current function value: 0.622093\n",
            "         Iterations 5\n",
            "Optimization terminated successfully.\n",
            "         Current function value: 0.649381\n",
            "         Iterations 4\n",
            "Optimization terminated successfully.\n",
            "         Current function value: 0.648314\n",
            "         Iterations 4\n",
            "Optimization terminated successfully.\n",
            "         Current function value: 0.517354\n",
            "         Iterations 6\n",
            "Entered : V2 \tAIC : 159.20610164402672\n",
            "Optimization terminated successfully.\n",
            "         Current function value: 0.499498\n",
            "         Iterations 6\n",
            "Optimization terminated successfully.\n",
            "         Current function value: 0.512482\n",
            "         Iterations 6\n",
            "Optimization terminated successfully.\n",
            "         Current function value: 0.511586\n",
            "         Iterations 6\n",
            "Optimization terminated successfully.\n",
            "         Current function value: 0.496819\n",
            "         Iterations 6\n",
            "Optimization terminated successfully.\n",
            "         Current function value: 0.510900\n",
            "         Iterations 6\n",
            "Optimization terminated successfully.\n",
            "         Current function value: 0.517354\n",
            "         Iterations 6\n",
            "Optimization terminated successfully.\n",
            "         Current function value: 0.517267\n",
            "         Iterations 6\n",
            "Optimization terminated successfully.\n",
            "         Current function value: 0.496819\n",
            "         Iterations 6\n",
            "Entered : V5 \tAIC : 155.04581489387724\n",
            "Optimization terminated successfully.\n",
            "         Current function value: 0.481943\n",
            "         Iterations 6\n",
            "Optimization terminated successfully.\n",
            "         Current function value: 0.490797\n",
            "         Iterations 6\n",
            "Optimization terminated successfully.\n",
            "         Current function value: 0.496810\n",
            "         Iterations 6\n",
            "Optimization terminated successfully.\n",
            "         Current function value: 0.489531\n",
            "         Iterations 6\n",
            "Optimization terminated successfully.\n",
            "         Current function value: 0.496700\n",
            "         Iterations 6\n",
            "Optimization terminated successfully.\n",
            "         Current function value: 0.496537\n",
            "         Iterations 6\n",
            "Optimization terminated successfully.\n",
            "         Current function value: 0.481943\n",
            "         Iterations 6\n",
            "Entered : V1 \tAIC : 152.58304469923124\n",
            "Optimization terminated successfully.\n",
            "         Current function value: 0.473620\n",
            "         Iterations 6\n",
            "Optimization terminated successfully.\n",
            "         Current function value: 0.481900\n",
            "         Iterations 6\n",
            "Optimization terminated successfully.\n",
            "         Current function value: 0.474002\n",
            "         Iterations 6\n",
            "Optimization terminated successfully.\n",
            "         Current function value: 0.481252\n",
            "         Iterations 6\n",
            "Optimization terminated successfully.\n",
            "         Current function value: 0.481943\n",
            "         Iterations 6\n",
            "Break : Significance Level\n",
            "Optimization terminated successfully.\n",
            "         Current function value: 0.481943\n",
            "         Iterations 6\n",
            "                           Logit Regression Results                           \n",
            "==============================================================================\n",
            "Dep. Variable:                  Label   No. Observations:                  150\n",
            "Model:                          Logit   Df Residuals:                      146\n",
            "Method:                           MLE   Df Model:                            3\n",
            "Date:                Tue, 15 Dec 2020   Pseudo R-squ.:                  0.2580\n",
            "Time:                        21:21:11   Log-Likelihood:                -72.292\n",
            "converged:                       True   LL-Null:                       -97.423\n",
            "Covariance Type:            nonrobust   LLR p-value:                 7.024e-11\n",
            "==============================================================================\n",
            "                 coef    std err          z      P>|z|      [0.025      0.975]\n",
            "------------------------------------------------------------------------------\n",
            "intercept     -6.4735      1.070     -6.051      0.000      -8.570      -4.377\n",
            "V2             0.0451      0.008      5.327      0.000       0.029       0.062\n",
            "V5            -0.0046      0.002     -2.229      0.026      -0.009      -0.001\n",
            "V1             0.1354      0.066      2.061      0.039       0.007       0.264\n",
            "==============================================================================\n",
            "AIC: 152.58304469923124\n",
            "BIC: 164.62558587561625\n",
            "Final Variables: ['intercept', 'V2', 'V5', 'V1']\n"
          ],
          "name": "stdout"
        },
        {
          "output_type": "execute_result",
          "data": {
            "text/plain": [
              "(['intercept', 'V2', 'V5', 'V1'],\n",
              " '\\nEntered : V2\\n\\n\\n                           Logit Regression Results                           \\n==============================================================================\\nDep. Variable:                  Label   No. Observations:                  150\\nModel:                          Logit   Df Residuals:                      148\\nMethod:                           MLE   Df Model:                            1\\nDate:                Tue, 15 Dec 2020   Pseudo R-squ.:                  0.2034\\nTime:                        21:21:11   Log-Likelihood:                -77.603\\nconverged:                       True   LL-Null:                       -97.423\\nCovariance Type:            nonrobust   LLR p-value:                 3.054e-10\\n==============================================================================\\n                 coef    std err          z      P>|z|      [0.025      0.975]\\n------------------------------------------------------------------------------\\nintercept     -5.5303      0.951     -5.814      0.000      -7.395      -3.666\\nV2             0.0392      0.007      5.403      0.000       0.025       0.053\\n==============================================================================\\nAIC: 159.20610164402672\\nBIC: 165.22737223221924\\n\\n\\nEntered : V5\\n\\n\\n                           Logit Regression Results                           \\n==============================================================================\\nDep. Variable:                  Label   No. Observations:                  150\\nModel:                          Logit   Df Residuals:                      147\\nMethod:                           MLE   Df Model:                            2\\nDate:                Tue, 15 Dec 2020   Pseudo R-squ.:                  0.2351\\nTime:                        21:21:11   Log-Likelihood:                -74.523\\nconverged:                       True   LL-Null:                       -97.423\\nCovariance Type:            nonrobust   LLR p-value:                 1.134e-10\\n==============================================================================\\n                 coef    std err          z      P>|z|      [0.025      0.975]\\n------------------------------------------------------------------------------\\nintercept     -6.1382      1.032     -5.946      0.000      -8.161      -4.115\\nV2             0.0472      0.008      5.572      0.000       0.031       0.064\\nV5            -0.0049      0.002     -2.389      0.017      -0.009      -0.001\\n==============================================================================\\nAIC: 155.04581489387724\\nBIC: 164.077720776166\\n\\n\\nEntered : V1\\n\\n\\n                           Logit Regression Results                           \\n==============================================================================\\nDep. Variable:                  Label   No. Observations:                  150\\nModel:                          Logit   Df Residuals:                      146\\nMethod:                           MLE   Df Model:                            3\\nDate:                Tue, 15 Dec 2020   Pseudo R-squ.:                  0.2580\\nTime:                        21:21:11   Log-Likelihood:                -72.292\\nconverged:                       True   LL-Null:                       -97.423\\nCovariance Type:            nonrobust   LLR p-value:                 7.024e-11\\n==============================================================================\\n                 coef    std err          z      P>|z|      [0.025      0.975]\\n------------------------------------------------------------------------------\\nintercept     -6.4735      1.070     -6.051      0.000      -8.570      -4.377\\nV2             0.0451      0.008      5.327      0.000       0.029       0.062\\nV5            -0.0046      0.002     -2.229      0.026      -0.009      -0.001\\nV1             0.1354      0.066      2.061      0.039       0.007       0.264\\n==============================================================================\\nAIC: 152.58304469923124\\nBIC: 164.62558587561625\\n\\n')"
            ]
          },
          "metadata": {
            "tags": []
          },
          "execution_count": 74
        }
      ]
    },
    {
      "cell_type": "markdown",
      "metadata": {
        "id": "1q4yy-t-dTpP"
      },
      "source": [
        "After the backward elimination, we came to conclusion that our final variables will be V2, V5 and V1."
      ]
    },
    {
      "cell_type": "code",
      "metadata": {
        "colab": {
          "base_uri": "https://localhost:8080/",
          "height": 204
        },
        "id": "s0cDwoq_R00z",
        "outputId": "94f35127-284d-42df-f4fa-eae1c0373033"
      },
      "source": [
        "new_x = X[['V1','V2','V5']]\r\n",
        "new_x.head()"
      ],
      "execution_count": 103,
      "outputs": [
        {
          "output_type": "execute_result",
          "data": {
            "text/html": [
              "<div>\n",
              "<style scoped>\n",
              "    .dataframe tbody tr th:only-of-type {\n",
              "        vertical-align: middle;\n",
              "    }\n",
              "\n",
              "    .dataframe tbody tr th {\n",
              "        vertical-align: top;\n",
              "    }\n",
              "\n",
              "    .dataframe thead th {\n",
              "        text-align: right;\n",
              "    }\n",
              "</style>\n",
              "<table border=\"1\" class=\"dataframe\">\n",
              "  <thead>\n",
              "    <tr style=\"text-align: right;\">\n",
              "      <th></th>\n",
              "      <th>V1</th>\n",
              "      <th>V2</th>\n",
              "      <th>V5</th>\n",
              "    </tr>\n",
              "  </thead>\n",
              "  <tbody>\n",
              "    <tr>\n",
              "      <th>0</th>\n",
              "      <td>1.221400</td>\n",
              "      <td>128.101200</td>\n",
              "      <td>180.956968</td>\n",
              "    </tr>\n",
              "    <tr>\n",
              "      <th>1</th>\n",
              "      <td>2.609743</td>\n",
              "      <td>85.891549</td>\n",
              "      <td>52.545356</td>\n",
              "    </tr>\n",
              "    <tr>\n",
              "      <th>2</th>\n",
              "      <td>2.682163</td>\n",
              "      <td>99.782456</td>\n",
              "      <td>71.578043</td>\n",
              "    </tr>\n",
              "    <tr>\n",
              "      <th>3</th>\n",
              "      <td>3.196969</td>\n",
              "      <td>115.189168</td>\n",
              "      <td>0.269863</td>\n",
              "    </tr>\n",
              "    <tr>\n",
              "      <th>4</th>\n",
              "      <td>4.790932</td>\n",
              "      <td>144.487763</td>\n",
              "      <td>-0.033570</td>\n",
              "    </tr>\n",
              "  </tbody>\n",
              "</table>\n",
              "</div>"
            ],
            "text/plain": [
              "         V1          V2          V5\n",
              "0  1.221400  128.101200  180.956968\n",
              "1  2.609743   85.891549   52.545356\n",
              "2  2.682163   99.782456   71.578043\n",
              "3  3.196969  115.189168    0.269863\n",
              "4  4.790932  144.487763   -0.033570"
            ]
          },
          "metadata": {
            "tags": []
          },
          "execution_count": 103
        }
      ]
    },
    {
      "cell_type": "markdown",
      "metadata": {
        "id": "ppXqAmeeUjzz"
      },
      "source": [
        "#### Generating New Model"
      ]
    },
    {
      "cell_type": "markdown",
      "metadata": {
        "id": "bRFuUTBzdwnC"
      },
      "source": [
        "We normally split data by 0.8 for train and 0.2 for test, but I will assume that it is required that we still have equal amounts of negatives and positives like in the Task 1."
      ]
    },
    {
      "cell_type": "code",
      "metadata": {
        "id": "_zu0flYWVEZe"
      },
      "source": [
        "X_train, X_test, y_train, y_test = train_test_split(new_x, y, test_size = 0.5, stratify = y)"
      ],
      "execution_count": 104,
      "outputs": []
    },
    {
      "cell_type": "code",
      "metadata": {
        "id": "FxVBYRX1UUf6"
      },
      "source": [
        "new_model = regression.fit(X_train, y_train)\r\n",
        "y_pred_new = model.predict(X_test)"
      ],
      "execution_count": 84,
      "outputs": []
    },
    {
      "cell_type": "markdown",
      "metadata": {
        "id": "xfY4EMnGeT0P"
      },
      "source": [
        "#### New Scores"
      ]
    },
    {
      "cell_type": "markdown",
      "metadata": {
        "id": "FlURs_1MeDxA"
      },
      "source": [
        "Here we calculate scores and append the new scores into our dataframe. \r\n",
        "0th row is first and 1st row is second logistic model results."
      ]
    },
    {
      "cell_type": "code",
      "metadata": {
        "colab": {
          "base_uri": "https://localhost:8080/",
          "height": 111
        },
        "id": "C9_yEZQvVZ1n",
        "outputId": "e552e7e2-f8f0-4b07-b2c4-e17ed6bf0525"
      },
      "source": [
        "new_scores = {}\r\n",
        "new_scores['Accuracy'] = accuracy_score(y_pred_new, y_pred)\r\n",
        "new_scores['F1'] = f1_score(y_pred_new, y_pred)\r\n",
        "new_scores['Recall'] = recall_score(y_pred_new, y_pred)\r\n",
        "new_scores['Precision'] = precision_score(y_pred_new, y_pred)\r\n",
        "\r\n",
        "all_scores = scores.append(new_scores, ignore_index=True)\r\n",
        "all_scores"
      ],
      "execution_count": 100,
      "outputs": [
        {
          "output_type": "execute_result",
          "data": {
            "text/html": [
              "<div>\n",
              "<style scoped>\n",
              "    .dataframe tbody tr th:only-of-type {\n",
              "        vertical-align: middle;\n",
              "    }\n",
              "\n",
              "    .dataframe tbody tr th {\n",
              "        vertical-align: top;\n",
              "    }\n",
              "\n",
              "    .dataframe thead th {\n",
              "        text-align: right;\n",
              "    }\n",
              "</style>\n",
              "<table border=\"1\" class=\"dataframe\">\n",
              "  <thead>\n",
              "    <tr style=\"text-align: right;\">\n",
              "      <th></th>\n",
              "      <th>Accuracy</th>\n",
              "      <th>F1</th>\n",
              "      <th>Recall</th>\n",
              "      <th>Precision</th>\n",
              "    </tr>\n",
              "  </thead>\n",
              "  <tbody>\n",
              "    <tr>\n",
              "      <th>0</th>\n",
              "      <td>0.573333</td>\n",
              "      <td>0.288889</td>\n",
              "      <td>0.276596</td>\n",
              "      <td>0.302326</td>\n",
              "    </tr>\n",
              "    <tr>\n",
              "      <th>1</th>\n",
              "      <td>0.600000</td>\n",
              "      <td>0.318182</td>\n",
              "      <td>0.311111</td>\n",
              "      <td>0.325581</td>\n",
              "    </tr>\n",
              "  </tbody>\n",
              "</table>\n",
              "</div>"
            ],
            "text/plain": [
              "   Accuracy        F1    Recall  Precision\n",
              "0  0.573333  0.288889  0.276596   0.302326\n",
              "1  0.600000  0.318182  0.311111   0.325581"
            ]
          },
          "metadata": {
            "tags": []
          },
          "execution_count": 100
        }
      ]
    },
    {
      "cell_type": "markdown",
      "metadata": {
        "id": "8Ec-eGjweZpX"
      },
      "source": [
        "In conclusion, we can see our accuracy, F1, Recall and Precision has increasd slightly after doing a backward step elimination. This shows that our new model has increased performance and accuracy now."
      ]
    },
    {
      "cell_type": "code",
      "metadata": {
        "id": "g_sU9e-De2lh"
      },
      "source": [
        ""
      ],
      "execution_count": null,
      "outputs": []
    }
  ]
}